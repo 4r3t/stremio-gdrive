{
  "nbformat": 4,
  "nbformat_minor": 0,
  "metadata": {
    "colab": {
      "name": "GetToken.ipynb",
      "provenance": []
    },
    "kernelspec": {
      "name": "python3",
      "display_name": "Python 3"
    },
    "language_info": {
      "name": "python"
    }
  },
  "cells": [
    {
      "cell_type": "code",
      "metadata": {
        "id": ""
      },
      "source": [
        "import json\n",
        "from google.colab import files\n",
        "from google_auth_oauthlib.flow import Flow\n",
        "\n",
        "# Upload client secrets file\n",
        "print('Upload your client_secret.json file:\\n')\n",
        "uploaded = files.upload()\n",
        "uploaded_file_name = list(uploaded)[0]\n",
        "\n",
        "if not uploaded_file_name.startswith('client_secret'): \n",
        "    raise Exception(f\"Invaild file: {uploaded_file_name}, Please upload the client_secret.json file.\")\n",
        "\n",
        "# Create the flow using the client secrets file from the Google API\n",
        "# Console.\n",
        "flow = Flow.from_client_secrets_file(\n",
        "    uploaded_file_name,\n",
        "    scopes=['https://www.googleapis.com/auth/drive'],\n",
        "    redirect_uri='urn:ietf:wg:oauth:2.0:oob')\n",
        "\n",
        "# Tell the user to go to the authorization URL.\n",
        "auth_url, _ = flow.authorization_url(prompt='consent')\n",
        "\n",
        "print(f'\\nPlease go to this URL: {auth_url}')\n",
        "\n",
        "# The user will get an authorization code. This code is used to get the\n",
        "# access token.\n",
        "code = input('Enter the authorization code: ')\n",
        "flow.fetch_token(code=code)\n",
        "\n",
        "token_json = json.dumps(\n",
        "    {\n",
        "        'token': flow.credentials.token,\n",
        "        'refresh_token': flow.credentials.refresh_token,\n",
        "        'token_uri': flow.credentials.token_uri,\n",
        "        'client_id': flow.credentials.client_id,\n",
        "        'client_secret': flow.credentials.client_secret,\n",
        "        'scopes': flow.credentials.scopes\n",
        "    }\n",
        ")\n",
        "\n",
        "print(f'\\nCopy the string below:\\n\\n\\t{token_json}')"
      ],
      "execution_count": null,
      "outputs": []
    }
  ]
}
