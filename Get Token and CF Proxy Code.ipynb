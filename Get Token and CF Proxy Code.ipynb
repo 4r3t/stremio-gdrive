{
  "nbformat": 4,
  "nbformat_minor": 0,
  "metadata": {
    "colab": {
      "name": "GetToken.ipynb",
      "provenance": []
    },
    "kernelspec": {
      "name": "python3",
      "display_name": "Python 3"
    },
    "language_info": {
      "name": "python"
    }
  },
  "cells": [
    {
      "cell_type": "code",
      "metadata": {
        "id": ""
      },
      "source": [
        "#@title << - Click the play button to run.\n",
        "#@markdown Double click here to view the code.\n",
        "\n",
        "import json\n",
        "from google.colab import files\n",
        "from google_auth_oauthlib.flow import Flow\n",
        "\n",
        "# Upload client secrets file\n",
        "print('Upload your client_secret.json file:\\n')\n",
        "uploaded = files.upload()\n",
        "uploaded_file_name = list(uploaded)[0]\n",
        "\n",
        "if not uploaded_file_name.startswith('client_secret'): \n",
        "    raise Exception(f\"Invaild file: {uploaded_file_name}, Please upload the client_secret.json file.\")\n",
        "\n",
        "# Create the flow using the client secrets file from the Google API\n",
        "# Console.\n",
        "flow = Flow.from_client_secrets_file(\n",
        "    uploaded_file_name,\n",
        "    scopes=['https://www.googleapis.com/auth/drive'],\n",
        "    redirect_uri='urn:ietf:wg:oauth:2.0:oob')\n",
        "\n",
        "# Tell the user to go to the authorization URL.\n",
        "auth_url, _ = flow.authorization_url(prompt='consent')\n",
        "\n",
        "print(f'\\nPlease go to this URL: {auth_url}')\n",
        "\n",
        "# The user will get an authorization code. This code is used to get the\n",
        "# access token.\n",
        "code = input('Enter the authorization code: ')\n",
        "flow.fetch_token(code=code)\n",
        "\n",
        "# Gets token json as a string \n",
        "token_json = json.dumps(\n",
        "    {\n",
        "        'token': flow.credentials.token,\n",
        "        'refresh_token': flow.credentials.refresh_token,\n",
        "        'token_uri': flow.credentials.token_uri,\n",
        "        'client_id': flow.credentials.client_id,\n",
        "        'client_secret': flow.credentials.client_secret,\n",
        "        'scopes': flow.credentials.scopes\n",
        "    }\n",
        ")\n",
        "\n",
        "# Fetch the js code for cf proxy from the repo\n",
        "def get_js():\n",
        "    !curl -s \"https://raw.githubusercontent.com/ssnjrthegr8/stremio-gdrive/main/cf_proxy.js\" -O cf_proxy.js\n",
        "    authconfig = f'var authConfig = {{\"client_id\": \"{flow.credentials.client_id}\",\"client_secret\": \"{flow.credentials.client_secret}\",\"refresh_token\": \"{flow.credentials.refresh_token}\"}};'\n",
        "    with open('cf_proxy.js', 'r') as js:\n",
        "        out = ''\n",
        "        read = False\n",
        "        for line in js.readlines():\n",
        "            if line.startswith('addEventListener'):\n",
        "                read = True\n",
        "            if read:\n",
        "                out += line\n",
        "        return f'{authconfig}\\n{out}'\n",
        "\n",
        "# Prints the outputs\n",
        "print(f'\\n1. Copy the token string for heroku:\\n\\n{token_json}\\n')\n",
        "print(f'\\n2. Copy the code for cloudflare workers:\\n\\n{get_js()}')"
      ],
      "execution_count": null,
      "outputs": []
    }
  ]
}